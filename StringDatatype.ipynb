{
 "cells": [
  {
   "cell_type": "markdown",
   "id": "5a4fcd5f-ddeb-4a1f-be31-36cb53e4d8bc",
   "metadata": {},
   "source": [
    "#  Python Data Types"
   ]
  },
  {
   "cell_type": "code",
   "execution_count": null,
   "id": "45790f8e-6570-4418-b89e-aaacb8d59546",
   "metadata": {},
   "outputs": [],
   "source": [
    "# Integer"
   ]
  },
  {
   "cell_type": "code",
   "execution_count": 1,
   "id": "67006ef8-ff95-419a-8d76-490887fecaa2",
   "metadata": {},
   "outputs": [],
   "source": [
    "i = 45"
   ]
  },
  {
   "cell_type": "code",
   "execution_count": 2,
   "id": "b2111b9a-4fb5-4deb-b178-a8557aba421b",
   "metadata": {},
   "outputs": [
    {
     "name": "stdout",
     "output_type": "stream",
     "text": [
      "45\n",
      "<class 'int'>\n"
     ]
    }
   ],
   "source": [
    "print(i)\n",
    "print(type(i))"
   ]
  },
  {
   "cell_type": "code",
   "execution_count": 4,
   "id": "9d4f647d-13ce-4f28-9259-946b45747f5e",
   "metadata": {},
   "outputs": [],
   "source": [
    "# Float"
   ]
  },
  {
   "cell_type": "code",
   "execution_count": 5,
   "id": "dcf81905-4298-4d0a-81f6-65ac994a85e9",
   "metadata": {},
   "outputs": [
    {
     "name": "stdout",
     "output_type": "stream",
     "text": [
      "110.56\n",
      "<class 'float'>\n"
     ]
    }
   ],
   "source": [
    "petrol = 110.56\n",
    "\n",
    "print(petrol)\n",
    "print(type(petrol))"
   ]
  },
  {
   "cell_type": "code",
   "execution_count": 26,
   "id": "e2c1d288-f879-463b-89f6-7918cf2d58e4",
   "metadata": {},
   "outputs": [],
   "source": [
    "# i1, i2 = 10 # This code is invalid as we declared 2 variables but defined only one value."
   ]
  },
  {
   "cell_type": "code",
   "execution_count": 7,
   "id": "f7a1236c-8f14-4dc2-9a65-dc4e09da5273",
   "metadata": {},
   "outputs": [
    {
     "name": "stdout",
     "output_type": "stream",
     "text": [
      "10\n",
      "20\n",
      "30\n",
      "-10\n",
      "200\n",
      "0.5\n"
     ]
    }
   ],
   "source": [
    "i1, i2 = 10, 20\n",
    "\n",
    "print(i1)\n",
    "print(i2)\n",
    "print(i1 + i2)\n",
    "print(i1 - i2)\n",
    "print(i1 * i2)\n",
    "print(i1 / i2)"
   ]
  },
  {
   "cell_type": "code",
   "execution_count": 8,
   "id": "c5db8cd1-4e3f-4419-82d1-69848b7ed617",
   "metadata": {},
   "outputs": [],
   "source": [
    "# STrings"
   ]
  },
  {
   "cell_type": "code",
   "execution_count": 9,
   "id": "733448b5-7e69-4574-94c8-1430879a5f36",
   "metadata": {},
   "outputs": [
    {
     "name": "stdout",
     "output_type": "stream",
     "text": [
      "SaiRam Krishna\n"
     ]
    }
   ],
   "source": [
    "s1 = \"SaiRam Krishna\"\n",
    "print(s1)"
   ]
  },
  {
   "cell_type": "code",
   "execution_count": 11,
   "id": "92998de3-9774-4871-bf72-a6dce5b1611c",
   "metadata": {},
   "outputs": [
    {
     "data": {
      "text/plain": [
       "'Naresh IT \\n        Data Science AI student'"
      ]
     },
     "execution_count": 11,
     "metadata": {},
     "output_type": "execute_result"
    }
   ],
   "source": [
    "s2 = '''Naresh IT \n",
    "        Data Science AI student'''\n",
    "s2"
   ]
  },
  {
   "cell_type": "code",
   "execution_count": 12,
   "id": "2a7b8f7f-1b1e-45cd-99b5-03ba46531f8f",
   "metadata": {},
   "outputs": [
    {
     "data": {
      "text/plain": [
       "'res'"
      ]
     },
     "execution_count": 12,
     "metadata": {},
     "output_type": "execute_result"
    }
   ],
   "source": [
    "s = 'naresh'\n",
    "s[2:5]"
   ]
  },
  {
   "cell_type": "code",
   "execution_count": 13,
   "id": "ddc20efb-dd83-4309-b13b-19660fa15f5e",
   "metadata": {},
   "outputs": [
    {
     "data": {
      "text/plain": [
       "'t'"
      ]
     },
     "execution_count": 13,
     "metadata": {},
     "output_type": "execute_result"
    }
   ],
   "source": [
    "s = 'nareshit'\n",
    "s[-1]"
   ]
  },
  {
   "cell_type": "code",
   "execution_count": 14,
   "id": "f02d60ff-8616-431b-8391-6cd796cd797f",
   "metadata": {},
   "outputs": [
    {
     "data": {
      "text/plain": [
       "'eshit'"
      ]
     },
     "execution_count": 14,
     "metadata": {},
     "output_type": "execute_result"
    }
   ],
   "source": [
    "s[3:8]"
   ]
  },
  {
   "cell_type": "code",
   "execution_count": 16,
   "id": "e1af87af-6211-48d7-a093-7d2b6185f5c5",
   "metadata": {},
   "outputs": [
    {
     "name": "stdout",
     "output_type": "stream",
     "text": [
      "Hello World\n"
     ]
    }
   ],
   "source": [
    "greeting = \"Hello World\"\n",
    "\n",
    "print(greeting)"
   ]
  },
  {
   "cell_type": "code",
   "execution_count": 21,
   "id": "f97f293f-f71a-479c-89ba-0988d094f7b9",
   "metadata": {},
   "outputs": [
    {
     "data": {
      "text/plain": [
       "1"
      ]
     },
     "execution_count": 21,
     "metadata": {},
     "output_type": "execute_result"
    }
   ],
   "source": [
    "abc = int(\"1\")\n",
    "abc"
   ]
  },
  {
   "cell_type": "code",
   "execution_count": 22,
   "id": "40b3e885-7e1e-4c5b-baf8-57ed4187952d",
   "metadata": {},
   "outputs": [
    {
     "name": "stdout",
     "output_type": "stream",
     "text": [
      "1\n"
     ]
    }
   ],
   "source": [
    "print(abc)"
   ]
  },
  {
   "cell_type": "code",
   "execution_count": 23,
   "id": "976840fa-ee77-4cc9-92b3-e5fb23f1ddd9",
   "metadata": {},
   "outputs": [],
   "source": [
    "a = b = 5"
   ]
  },
  {
   "cell_type": "code",
   "execution_count": 24,
   "id": "62a9d5d8-862f-4629-ab18-9df262dc034b",
   "metadata": {},
   "outputs": [
    {
     "name": "stdout",
     "output_type": "stream",
     "text": [
      "5 5\n"
     ]
    }
   ],
   "source": [
    "print(a,b)"
   ]
  },
  {
   "cell_type": "code",
   "execution_count": 29,
   "id": "114b1e7d-ae4d-4255-b764-7e54f3ddca9f",
   "metadata": {},
   "outputs": [
    {
     "data": {
      "text/plain": [
       "['False',\n",
       " 'None',\n",
       " 'True',\n",
       " 'and',\n",
       " 'as',\n",
       " 'assert',\n",
       " 'async',\n",
       " 'await',\n",
       " 'break',\n",
       " 'class',\n",
       " 'continue',\n",
       " 'def',\n",
       " 'del',\n",
       " 'elif',\n",
       " 'else',\n",
       " 'except',\n",
       " 'finally',\n",
       " 'for',\n",
       " 'from',\n",
       " 'global',\n",
       " 'if',\n",
       " 'import',\n",
       " 'in',\n",
       " 'is',\n",
       " 'lambda',\n",
       " 'nonlocal',\n",
       " 'not',\n",
       " 'or',\n",
       " 'pass',\n",
       " 'raise',\n",
       " 'return',\n",
       " 'try',\n",
       " 'while',\n",
       " 'with',\n",
       " 'yield']"
      ]
     },
     "execution_count": 29,
     "metadata": {},
     "output_type": "execute_result"
    }
   ],
   "source": [
    "import keyword\n",
    "keyword.kwlist"
   ]
  },
  {
   "cell_type": "code",
   "execution_count": 30,
   "id": "c97758bb-2b20-4334-a70e-f2614e41f755",
   "metadata": {},
   "outputs": [
    {
     "name": "stdout",
     "output_type": "stream",
     "text": [
      "<class 'str'>\n"
     ]
    }
   ],
   "source": [
    "a = \"sai\"\n",
    "print(type(a))"
   ]
  },
  {
   "cell_type": "code",
   "execution_count": 32,
   "id": "c0d5da51-8275-4788-9cfe-2035f996b74a",
   "metadata": {},
   "outputs": [
    {
     "name": "stdout",
     "output_type": "stream",
     "text": [
      "Hello World.. will meet you soon on an international WEBINAR where i will present you the AI agent stuff\n"
     ]
    }
   ],
   "source": [
    "s = \"Hello World.. will meet you soon on an international WEBINAR where i will present you the AI agent stuff\"\n",
    "print(s)"
   ]
  },
  {
   "cell_type": "code",
   "execution_count": null,
   "id": "126e4ad6-188d-45a5-b0c8-6be507f387ba",
   "metadata": {},
   "outputs": [],
   "source": []
  }
 ],
 "metadata": {
  "kernelspec": {
   "display_name": "Python 3 (ipykernel)",
   "language": "python",
   "name": "python3"
  },
  "language_info": {
   "codemirror_mode": {
    "name": "ipython",
    "version": 3
   },
   "file_extension": ".py",
   "mimetype": "text/x-python",
   "name": "python",
   "nbconvert_exporter": "python",
   "pygments_lexer": "ipython3",
   "version": "3.12.7"
  }
 },
 "nbformat": 4,
 "nbformat_minor": 5
}
